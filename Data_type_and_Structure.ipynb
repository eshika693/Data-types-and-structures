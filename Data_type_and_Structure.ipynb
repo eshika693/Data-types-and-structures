{
  "nbformat": 4,
  "nbformat_minor": 0,
  "metadata": {
    "colab": {
      "provenance": []
    },
    "kernelspec": {
      "name": "python3",
      "display_name": "Python 3"
    },
    "language_info": {
      "name": "python"
    }
  },
  "cells": [
    {
      "cell_type": "markdown",
      "source": [
        "## **Data types and structure**"
      ],
      "metadata": {
        "id": "mDoMj0zfZgmm"
      }
    },
    {
      "cell_type": "markdown",
      "source": [
        "Ques.1)  What are data structures, and why are they important?"
      ],
      "metadata": {
        "id": "3GEQUB1lZw7a"
      }
    },
    {
      "cell_type": "markdown",
      "source": [
        "   - Data structures are a way of organising and storing data so that it can be accessed and manipulated.They provide efficient ways to manage information based on its characteristics and intended use.\n",
        "   -They are important because:\n",
        "\n",
        "    Choosing the right data structure significantly impacts the efficiency and performance of your program.\n",
        "\n",
        "    Well chosen data structure can:\n",
        "\n",
        "    Simplify data manipulation (adding, removing, modifying elements)\n",
        "\n",
        "    Optimize searching and sorting operations\n",
        "\n",
        "    Conserve memory usage\n"
      ],
      "metadata": {
        "id": "Ug040aDpZ7_B"
      }
    },
    {
      "cell_type": "markdown",
      "source": [
        "Ques2)  Explain the difference between mutable and immutable data types with examples?"
      ],
      "metadata": {
        "id": "4PzzYys6cQzR"
      }
    },
    {
      "cell_type": "markdown",
      "source": [
        " - A mutable data type is one whose value can be changed or modified after it is created.Ex. List is a mutable data type.\n",
        "\n",
        " -An immutable data type is one whose value cannot be modified after it is created. Ex. Tuples and Strings are immutable data types.\n",
        "\n"
      ],
      "metadata": {
        "id": "a71vNOzecYqD"
      }
    },
    {
      "cell_type": "markdown",
      "source": [
        "Ques3)  What are the main differences between lists and tuples in Python?"
      ],
      "metadata": {
        "id": "YHaZRUuxeh2c"
      }
    },
    {
      "cell_type": "markdown",
      "source": [
        "- The main difference between lists and tuples are:\n",
        "\n",
        "  List is an ordered collection of elements and it is mutable i.e. we can add, remove or modify elements within a list using indexing and slicing.\n",
        "\n",
        "  Whlie, Tuple is also an ordered collection of elements but it is immutable i.e. we can access the elements of tuple using indexing and slicing but we cannot modify the content.\n"
      ],
      "metadata": {
        "id": "Bz10sg-senBT"
      }
    },
    {
      "cell_type": "markdown",
      "source": [
        "Ques4) Describe how dictionaries store data?"
      ],
      "metadata": {
        "id": "R3BEJkxygdNz"
      }
    },
    {
      "cell_type": "markdown",
      "source": [
        "- Dictionary is a data structure that stores data as key value pair, each key acts as a uniques identifier for retrieving an associated value. Keys and values can be of various data types (strings, numbers, lists, and even other dictionaries)."
      ],
      "metadata": {
        "id": "8z6EO1SNggSP"
      }
    },
    {
      "cell_type": "markdown",
      "source": [
        "Ques5) Why might you use a set instead of a list in Python?"
      ],
      "metadata": {
        "id": "tVqrgOzth_d2"
      }
    },
    {
      "cell_type": "markdown",
      "source": [
        "- We might use set instead of list in python when we need to store a collection of unique elements. Ex: We want to process user registeration and we need to ensure that each mail is only registered once in this case use of set is more relaible than list."
      ],
      "metadata": {
        "id": "PAqGje8ViE-F"
      }
    },
    {
      "cell_type": "markdown",
      "source": [
        "Ques6)  What is a string in Python, and how is it different from a list?"
      ],
      "metadata": {
        "id": "UXvHkrNMjtks"
      }
    },
    {
      "cell_type": "markdown",
      "source": [
        "- String is a sequence of character it represents and manipulate textual data. Characters are arranged in an unchangeable order and each character in the string can be accessed by its index, or position.\n",
        "-String is different form list as:\n",
        "\n",
        " 1) String is a sequence of of characters while list is a collection of heterogeneous data types (ex. integers, strings).\n",
        "\n",
        " 2) String is an immutable data type i.e. once it is created its content cannot be changed while list is a mutable data type.\n"
      ],
      "metadata": {
        "id": "kyjdios2jyhP"
      }
    },
    {
      "cell_type": "markdown",
      "source": [
        "Ques7)  How do tuples ensure data integrity in Python?"
      ],
      "metadata": {
        "id": "mjFjk9womLVx"
      }
    },
    {
      "cell_type": "markdown",
      "source": [
        "- Tuples ensures the data integrity in python through their immutability i.e. once the tuple is created it cannot be altered or modified i.e. none of the elements of the tuple can be added, removed or modified. Because of their immutablity tuples maintain the integrity of the data by preventing accidential modification which can lead to errors or inconsistencies."
      ],
      "metadata": {
        "id": "YxezUje4mdKl"
      }
    },
    {
      "cell_type": "markdown",
      "source": [
        "Ques8) What is a hash table, and how does it relate to dictionaries in Python?"
      ],
      "metadata": {
        "id": "_8U2SeVnn7hL"
      }
    },
    {
      "cell_type": "markdown",
      "source": [
        "-A hash table is a data structure that stores key-value pairs in a way that allows for fast retrieval of values based on their associated keys.In Python, dictionaries are implemented using hash tables. When we insert a key-value pair into a dictionary, Python applies a hash function to the key, calculates a hash value, and stores the pair in the appropriate location in the hash table."
      ],
      "metadata": {
        "id": "i4oXKMKSoCPG"
      }
    },
    {
      "cell_type": "markdown",
      "source": [
        "Ques9)Can lists contain different data types in Python?"
      ],
      "metadata": {
        "id": "ryJMyCMLooot"
      }
    },
    {
      "cell_type": "markdown",
      "source": [
        "- Yes list can contain different data types in python as it is a collection of heterogeneous data types(ex. strings, integers)"
      ],
      "metadata": {
        "id": "WuQxSoahot0x"
      }
    },
    {
      "cell_type": "markdown",
      "source": [
        "Ques10)Explain why strings are immutable in Python?"
      ],
      "metadata": {
        "id": "jSLtCQkxo-Ag"
      }
    },
    {
      "cell_type": "markdown",
      "source": [
        "- Strings are immutable in Python to ensure data intergrity, string allow Python to optimize memory usage through a process called string interning, where identical strings are stored only once in memory, reducing duplication. Immutablity ensure hashability i.e. strings can br used a sdictionary keys or set element without their value changing unexpectedly, by being immutable it prevents the accidental errors which can lead to error and inconsistencies."
      ],
      "metadata": {
        "id": "TqtaizfDpQoD"
      }
    },
    {
      "cell_type": "markdown",
      "source": [
        "Quest11) What advantages do dictionaries offer over lists for certain tasks?"
      ],
      "metadata": {
        "id": "Ap80n41xqCaM"
      }
    },
    {
      "cell_type": "markdown",
      "source": [
        "- Dictionaries offer significant advantages over lists for certain tasks, primarily when it comes to efficiently storing and accessing data using key-value pairs, inserting, or deleting elements based on a key is much faster in a dictionary compared to searching for an item in a list. Additionally, dictionaries ensure uniqueness of keys, which can prevent duplication of data and ensure more reliable data storage.Lists do not enforce uniqueness and may require extra effort to remove duplicates."
      ],
      "metadata": {
        "id": "4-Jd8kATqJbp"
      }
    },
    {
      "cell_type": "markdown",
      "source": [
        "Ques12) Describe a scenario where using a tuple would be preferable over a list?"
      ],
      "metadata": {
        "id": "YQMEdeE5qrPG"
      }
    },
    {
      "cell_type": "markdown",
      "source": [
        "- Tuple would be preferable over a list is when we need to store a collection of related but immutable values that should not be modified, such as (latitude and longitude) in this case, a tuple is ideal because the coordinates are fixed and should not be changed during the program's execution. Using a tuple ensures that the data remains immutable, preventing accidental modifications, which helps maintain data integrity.."
      ],
      "metadata": {
        "id": "8rzhW_KMq5w2"
      }
    },
    {
      "cell_type": "markdown",
      "source": [
        "Ques13)  How do sets handle duplicate values in Python?"
      ],
      "metadata": {
        "id": "tV5XyGQRrYex"
      }
    },
    {
      "cell_type": "markdown",
      "source": [
        "- Set automatically handles the duplicate values by removing them. When we add an element in the set, Python automatically check whether the element already exists in the set or not and if the element is already present in the set then it will not be addedd again ensuring that all the elements of the set are unique."
      ],
      "metadata": {
        "id": "ymErO0QgsEkQ"
      }
    },
    {
      "cell_type": "markdown",
      "source": [
        "Ques14)  How does the “in” keyword work differently for lists and dictionaries?"
      ],
      "metadata": {
        "id": "sYuLWdiNs2ue"
      }
    },
    {
      "cell_type": "markdown",
      "source": [
        "- When we use \"in\" keyword in list then Python check whether the specified element exists in the list or not. It iterates through the list comparing all the items to the one we are searching for.\n",
        "- While when we use \"in\" keyword in dictionaries it checks if the specified key exists in the dictionary(not the vvalues).Python does this by looking up the key in the dictionary’s hash table."
      ],
      "metadata": {
        "id": "PWo9uXz_s8UF"
      }
    },
    {
      "cell_type": "markdown",
      "source": [
        "Ques15) Can you modify the elements of a tuple? Explain why or why not?"
      ],
      "metadata": {
        "id": "6MApfaTOuCjd"
      }
    },
    {
      "cell_type": "markdown",
      "source": [
        "No we cannot modify the elements of a tuples because tuple is an immutable data type i.e. once the tuple is created it cannot be modified or changed. Immutability is a key characteristics of tuples which ensures that the data stores in tuple will remain contant throughout the program's execution."
      ],
      "metadata": {
        "id": "-N_5CAe-uHbR"
      }
    },
    {
      "cell_type": "markdown",
      "source": [
        "Ques16)  What is a nested dictionary, and give an example of its use case?"
      ],
      "metadata": {
        "id": "zlFq0L68uxeV"
      }
    },
    {
      "cell_type": "markdown",
      "source": [
        "A nested dictionary in Python is a dictionary that contains another dictionary as one of its values.It is useful when we need to represent hierarchical data or data with multiple levels of relationships."
      ],
      "metadata": {
        "id": "tcGnGSCsu2MM"
      }
    },
    {
      "cell_type": "markdown",
      "source": [
        "Ques17) Describe the time complexity of accessing elements in a dictionary?"
      ],
      "metadata": {
        "id": "nUme4QcnvEhc"
      }
    },
    {
      "cell_type": "markdown",
      "source": [
        "- The time complexity of accessing elements in a Python dictionary is typically on average, meaning that retrieving a value using a key is done in constant time. This efficiency is due to the way dictionaries are implemented using hash tables, where the keys are hashed to determine their index in an internal array. When you access an element using a key, Python applies a hash function to the key, which maps it to a specific location in memory. As a result, Python can directly access the value associated with that key without needing to iterate through the entire collection."
      ],
      "metadata": {
        "id": "5wiy7SSyvJQ-"
      }
    },
    {
      "cell_type": "markdown",
      "source": [
        "Ques18)  In What situations are lists preferred over dictionaries?"
      ],
      "metadata": {
        "id": "axmoSXlNvqgx"
      }
    },
    {
      "cell_type": "markdown",
      "source": [
        "- Lists are preferred over dicionaries where we need an ordered collection of items that can be accessed by their postion rather than their key.  "
      ],
      "metadata": {
        "id": "Wtl5pD1Cvy7z"
      }
    },
    {
      "cell_type": "markdown",
      "source": [
        "Ques19) Why are dictionaries considered unordered, and how does that affect data retrieval?"
      ],
      "metadata": {
        "id": "brXthUtowMMZ"
      }
    },
    {
      "cell_type": "markdown",
      "source": [
        "- Dictionaries in Python are considered unordered primarily because, they did not guarantee any specific order of the key-value pairs. This unordered nature stems from their underlying implementation, which uses a hash table to store data. Hash tables optimize for fast key-based lookups by using a hash function to compute a unique index for each key, allowing quick access to values. This unordered characteristic does not affect data retrieval by key, which remains efficient and direct. However, it can affect how we iterate through the dictionary if we need the items to appear in a specific order, requiring additional steps like sorting or using ordered collections."
      ],
      "metadata": {
        "id": "yIcNS0O0wRcI"
      }
    },
    {
      "cell_type": "markdown",
      "source": [
        "Ques20)Explain the difference between a list and a dictionary in terms of data retrieval?"
      ],
      "metadata": {
        "id": "gwvL2bXQxCIQ"
      }
    },
    {
      "cell_type": "markdown",
      "source": [
        "- The primary difference between a list and a dictionary in terms of data retrieval lies in how they store and access data. A list in Python is an ordered collection of elements, indexed by their position, or index, in the list, starting from 0.Data retrieval from a list is done by accessing elements through their indices. While dictionary is an unordered collection of key-value pairs, where each element is accessed by its unique key rather than an index. Data retrieval in a dictionary is typically faster than in a list, with constant time complexity for looking up values by their key."
      ],
      "metadata": {
        "id": "fwnf70RKxbKQ"
      }
    },
    {
      "cell_type": "markdown",
      "source": [
        "## Practical Questions"
      ],
      "metadata": {
        "id": "7RyHu-Xvxf94"
      }
    },
    {
      "cell_type": "markdown",
      "source": [
        "Quest1) Write a code to create a string with your name and print it?"
      ],
      "metadata": {
        "id": "IUb6xuQ0fl_I"
      }
    },
    {
      "cell_type": "code",
      "source": [
        "# Create a string by my name\n",
        "name = \"Eshika Singh\"\n",
        "\n",
        "# print the name\n",
        "\n",
        "print(name)"
      ],
      "metadata": {
        "id": "5p6igOr-fxLs"
      },
      "execution_count": null,
      "outputs": []
    },
    {
      "cell_type": "markdown",
      "source": [
        "Ques2) Write a code to find the length of the string \"Hello World\"?"
      ],
      "metadata": {
        "id": "jn4MqZLkf_f2"
      }
    },
    {
      "cell_type": "code",
      "source": [
        "string = \"Hello World\"\n",
        "length = len(string)\n",
        "print(length)"
      ],
      "metadata": {
        "id": "7gYQdU6YgJCA"
      },
      "execution_count": null,
      "outputs": []
    },
    {
      "cell_type": "markdown",
      "source": [
        "Ques3) Write a code to slice the first 3 characters from the string \"Python Programming\"?"
      ],
      "metadata": {
        "id": "PhgEMvtdgeZP"
      }
    },
    {
      "cell_type": "code",
      "source": [
        "string = \"Python Programming\"\n",
        "sliced_string = string[:3]\n",
        "print(sliced_string)"
      ],
      "metadata": {
        "id": "XkxO5c0mglmc"
      },
      "execution_count": null,
      "outputs": []
    },
    {
      "cell_type": "markdown",
      "source": [
        "Ques4) Write a code to convert the string \"hello\" to uppercase?"
      ],
      "metadata": {
        "id": "7j3zeuHrhRDy"
      }
    },
    {
      "cell_type": "code",
      "source": [
        "string = \"hello\"\n",
        "uppercase_string = string.upper()\n",
        "print(uppercase_string)"
      ],
      "metadata": {
        "id": "5LiibGMghY8N"
      },
      "execution_count": null,
      "outputs": []
    },
    {
      "cell_type": "markdown",
      "source": [
        "Ques5) Write a code to replace the word \"apple\" with \"orange\" in the string \"I like apple\"?"
      ],
      "metadata": {
        "id": "-QbjsRAshfGR"
      }
    },
    {
      "cell_type": "code",
      "source": [
        "string = \"I like apple\"\n",
        "replaced_string = string.replace(\"apple\", \"orange\")\n",
        "print(replaced_string)"
      ],
      "metadata": {
        "id": "hLTKkDv3h2GO"
      },
      "execution_count": null,
      "outputs": []
    },
    {
      "cell_type": "markdown",
      "source": [
        "Ques6) Write a code to create a list with numbers 1 to 5 and print it?"
      ],
      "metadata": {
        "id": "yFOVc2YKjP3C"
      }
    },
    {
      "cell_type": "code",
      "source": [
        "list = [1,2,3,4,5]\n",
        "print(list)"
      ],
      "metadata": {
        "id": "jIOT_jSTjbxy"
      },
      "execution_count": null,
      "outputs": []
    },
    {
      "cell_type": "markdown",
      "source": [
        "Ques7) Write a code to append the number 10 to the list [1, 2, 3, 4]?"
      ],
      "metadata": {
        "id": "oH1LhdJZj1tB"
      }
    },
    {
      "cell_type": "code",
      "source": [
        "my_list = [1,2,3,4]\n",
        "my_list.append(10)\n",
        "print(my_list)"
      ],
      "metadata": {
        "id": "GpIyoBRFjwqE"
      },
      "execution_count": null,
      "outputs": []
    },
    {
      "cell_type": "markdown",
      "source": [
        "Ques8)Write a code to remove the number 3 from the list [1, 2, 3, 4, 5]?"
      ],
      "metadata": {
        "id": "3B_vw7VMkVeG"
      }
    },
    {
      "cell_type": "code",
      "source": [
        "my_list = [1,2,3,4,5]\n",
        "my_list.remove(3)\n",
        "print(my_list)"
      ],
      "metadata": {
        "id": "Ts9J7XqukcgM"
      },
      "execution_count": null,
      "outputs": []
    },
    {
      "cell_type": "markdown",
      "source": [
        "Ques9) Write a code to access the second element in the list ['a', 'b', 'c', 'd']?"
      ],
      "metadata": {
        "id": "vQw1tXqgkoWq"
      }
    },
    {
      "cell_type": "code",
      "source": [
        "my_list = ['a', 'b', 'c', 'd']\n",
        "second_element = my_list[1]\n",
        "print(second_element)"
      ],
      "metadata": {
        "id": "3HqK6HuqkvZe"
      },
      "execution_count": null,
      "outputs": []
    },
    {
      "cell_type": "markdown",
      "source": [
        "Ques10) Write a code to reverse the list [10, 20, 30, 40, 50]?"
      ],
      "metadata": {
        "id": "RMCAYI-Vk_Fm"
      }
    },
    {
      "cell_type": "code",
      "source": [
        "my_list = [10, 20, 30, 40, 50]\n",
        "my_list.reverse()\n",
        "print(my_list)"
      ],
      "metadata": {
        "id": "1GMi3Cd-lDnd"
      },
      "execution_count": null,
      "outputs": []
    },
    {
      "cell_type": "markdown",
      "source": [
        "Ques11) Write a code to create a tuple with the elements 100, 200, 300 and print it?"
      ],
      "metadata": {
        "id": "KcSMR9rDlpIj"
      }
    },
    {
      "cell_type": "code",
      "source": [
        "my_tuple = (100, 200, 300)\n",
        "print(my_tuple)"
      ],
      "metadata": {
        "id": "SaQgGY1Tlwyp"
      },
      "execution_count": null,
      "outputs": []
    },
    {
      "cell_type": "markdown",
      "source": [
        "Ques12)  Write a code to access the second-to-last element of the tuple ('red', 'green', 'blue', 'yellow')?"
      ],
      "metadata": {
        "id": "ejQkWkrGl7Uj"
      }
    },
    {
      "cell_type": "code",
      "source": [
        "my_tuple = ('red', 'green', 'blue', 'yellow')\n",
        "second_to_last_element = my_tuple[-2]\n",
        "print(second_to_last_element)"
      ],
      "metadata": {
        "id": "Ka0RLQsNmA31"
      },
      "execution_count": null,
      "outputs": []
    },
    {
      "cell_type": "markdown",
      "source": [
        "Ques13) Write a code to find the minimum number in the tuple (10, 20, 5, 15)?"
      ],
      "metadata": {
        "id": "lQg8BFnBmb44"
      }
    },
    {
      "cell_type": "code",
      "source": [
        "my_tuple = (10, 20, 5, 15)\n",
        "minimum_number = min(my_tuple)\n",
        "print(minimum_number)"
      ],
      "metadata": {
        "id": "XBwA6-mvmg_O"
      },
      "execution_count": null,
      "outputs": []
    },
    {
      "cell_type": "markdown",
      "source": [
        "Ques14)  Write a code to find the index of the element \"cat\" in the tuple ('dog', 'cat', 'rabbit')?"
      ],
      "metadata": {
        "id": "RctLDFs7m78Y"
      }
    },
    {
      "cell_type": "code",
      "source": [
        "tup = ('dog', 'cat', 'rabbit')\n",
        "index = tup.index('cat')\n",
        "print(index)"
      ],
      "metadata": {
        "id": "TGjabRZqnBE5"
      },
      "execution_count": null,
      "outputs": []
    },
    {
      "cell_type": "markdown",
      "source": [
        "Ques15)  Write a code to create a tuple containing three different fruits and check if \"kiwi\" is in it?"
      ],
      "metadata": {
        "id": "-8Orj1rpnQAp"
      }
    },
    {
      "cell_type": "code",
      "source": [
        "my_tuple = ('apple', 'banana', 'guavava')\n",
        "if 'kiwi' in my_tuple:\n",
        "    print(\"kiwi is in the tuple\")\n",
        "else:\n",
        "    print(\"kiwi is not in the tuple\")"
      ],
      "metadata": {
        "id": "gZ7tdrXnnk5L"
      },
      "execution_count": null,
      "outputs": []
    },
    {
      "cell_type": "markdown",
      "source": [
        "Ques16) Write a code to create a set with the elements 'a', 'b', 'c' and print it?"
      ],
      "metadata": {
        "id": "ZWbLN1ZAn65i"
      }
    },
    {
      "cell_type": "code",
      "source": [
        "my_set = {'a', 'b', 'c'}\n",
        "print(my_set)"
      ],
      "metadata": {
        "id": "Q_jQBe4un_ra"
      },
      "execution_count": null,
      "outputs": []
    },
    {
      "cell_type": "markdown",
      "source": [
        "Ques17) Write a code to clear all elements from the set {1, 2, 3, 4, 5}?"
      ],
      "metadata": {
        "id": "3wlKeezGoPfG"
      }
    },
    {
      "cell_type": "code",
      "source": [
        "my_set = {1, 2, 3, 4, 5}\n",
        "my_set.clear()\n",
        "print(my_set)"
      ],
      "metadata": {
        "id": "QPRtR1uEoT_d"
      },
      "execution_count": null,
      "outputs": []
    },
    {
      "cell_type": "markdown",
      "source": [
        "Ques18) Write a code to remove the element 4 from the set {1, 2, 3, 4}?"
      ],
      "metadata": {
        "id": "xf6pz6KXohEA"
      }
    },
    {
      "cell_type": "code",
      "source": [
        "my_set = {1, 2, 3, 4}\n",
        "my_set.remove(4)\n",
        "print(my_set)"
      ],
      "metadata": {
        "id": "8wgRnmsJoohI"
      },
      "execution_count": null,
      "outputs": []
    },
    {
      "cell_type": "markdown",
      "source": [
        "Ques19)  Write a code to find the union of two sets {1, 2, 3} and {3, 4, 5}?"
      ],
      "metadata": {
        "id": "-5dlAt7zo0qU"
      }
    },
    {
      "cell_type": "code",
      "source": [
        "set1 = {1,2,3}\n",
        "set2 = {3,4,5}\n",
        "union_set = set1.union(set2)\n",
        "print(union_set)"
      ],
      "metadata": {
        "id": "2kyh5_D3pJNA"
      },
      "execution_count": null,
      "outputs": []
    },
    {
      "cell_type": "markdown",
      "source": [
        "Ques20)  Write a code to find the intersection of two sets {1, 2, 3} and {2, 3, 4}?"
      ],
      "metadata": {
        "id": "vmOtQwggplX7"
      }
    },
    {
      "cell_type": "code",
      "source": [
        "set1 = {1,2,3}\n",
        "set2 = {2,3,4}\n",
        "intersection = set1 & set2\n",
        "print(intersection)"
      ],
      "metadata": {
        "id": "G-LeET3hprSr"
      },
      "execution_count": null,
      "outputs": []
    },
    {
      "cell_type": "markdown",
      "source": [
        "Ques21) Write a code to create a dictionary with the keys \"name\", \"age\", and \"city\", and print it?"
      ],
      "metadata": {
        "id": "AmtE9TzYqA-f"
      }
    },
    {
      "cell_type": "code",
      "source": [
        "my_dict = {\"name\": \"Eshika\", \"age\": 22, \"city\": \"Lucknow\"}\n",
        "print(my_dict)"
      ],
      "metadata": {
        "id": "XyZZJZPyqFQi"
      },
      "execution_count": null,
      "outputs": []
    },
    {
      "cell_type": "markdown",
      "source": [
        "Ques22) Write a code to add a new key-value pair \"country\": \"USA\" to the dictionary {'name': 'John', 'age': 25}?"
      ],
      "metadata": {
        "id": "4z4Vh0T2qMaK"
      }
    },
    {
      "cell_type": "code",
      "source": [
        "dict1 ={'name': 'John', 'age': 25}\n",
        "dict1['country'] = 'USA'\n",
        "print(dict1)"
      ],
      "metadata": {
        "id": "SwElrhyFqQ4N"
      },
      "execution_count": null,
      "outputs": []
    },
    {
      "cell_type": "markdown",
      "source": [
        "Ques23)  Write a code to access the value associated with the key \"name\" in the dictionary {'name': 'Alice', 'age': 30}?"
      ],
      "metadata": {
        "id": "vwX9IaTLq-pa"
      }
    },
    {
      "cell_type": "code",
      "source": [
        "my_dict = {'name': 'Alice', 'age': 30}\n",
        "print( my_dict['name'])"
      ],
      "metadata": {
        "id": "oCqar3x5rDeW"
      },
      "execution_count": null,
      "outputs": []
    },
    {
      "cell_type": "markdown",
      "source": [
        "Ques24)  Write a code to remove the key \"age\" from the dictionary {'name': 'Bob', 'age': 22, 'city': 'New York'}?\n",
        "\n"
      ],
      "metadata": {
        "id": "PZfXpCFrrllo"
      }
    },
    {
      "cell_type": "code",
      "source": [
        "my_dict = {'name': 'Bob', 'age': 22, 'city': 'New York'}\n",
        "del my_dict['age']\n",
        "print(my_dict)"
      ],
      "metadata": {
        "id": "pAFfX2KwrrdL"
      },
      "execution_count": null,
      "outputs": []
    },
    {
      "cell_type": "markdown",
      "source": [
        "Ques25) Write a code to check if the key \"city\" exists in the dictionary {'name': 'Alice', 'city': 'Paris'}?"
      ],
      "metadata": {
        "id": "VL3gOwBNsFNi"
      }
    },
    {
      "cell_type": "code",
      "source": [
        "my_dict = {'name': 'Alice', 'city': 'Paris'}\n",
        "if 'city' in my_dict:\n",
        "    print(\"city is in the dictionary\")\n",
        "else:\n",
        "    print(\"city is not in the dictionary\")"
      ],
      "metadata": {
        "id": "KrXfpi72sMq6"
      },
      "execution_count": null,
      "outputs": []
    },
    {
      "cell_type": "markdown",
      "source": [
        "Ques26)  Write a code to create a list, a tuple, and a dictionary, and print them all?"
      ],
      "metadata": {
        "id": "9G_xtXTrsbtp"
      }
    },
    {
      "cell_type": "code",
      "source": [
        "list = [1,'Apple',(2+3j)]\n",
        "tuple = (1,2,'India')\n",
        "dict = {'name': 'Eshika Singh', 'age' : 20,'City': 'Lucknow'}\n",
        "print('List:', list)\n",
        "print('Tuple:', tuple)\n",
        "print('Dictionary:', dict)"
      ],
      "metadata": {
        "id": "kA_8qJ_Jshed"
      },
      "execution_count": null,
      "outputs": []
    },
    {
      "cell_type": "markdown",
      "source": [
        "Ques27)  Write a code to create a list of 5 random numbers between 1 and 100, sort it in ascending order, and print the\n",
        "result.(replaced)?"
      ],
      "metadata": {
        "id": "cmjJ4kROtcrr"
      }
    },
    {
      "cell_type": "code",
      "source": [
        "import random\n",
        "\n",
        "random_numbers = [random.randint(1, 100) for _ in range(5)]\n",
        "random_numbers.sort()\n",
        "print(random_numbers)"
      ],
      "metadata": {
        "id": "q-a_9gIBtjd0"
      },
      "execution_count": null,
      "outputs": []
    },
    {
      "cell_type": "markdown",
      "source": [
        "Ques28) Write a code to create a list with strings and print the element at the third index?"
      ],
      "metadata": {
        "id": "aBMuo2omt-VO"
      }
    },
    {
      "cell_type": "code",
      "source": [
        "my_list = ['apple','banana','grapes','kiwi','orange']\n",
        "print(my_list[3])"
      ],
      "metadata": {
        "id": "_pzX6mT1uDJc"
      },
      "execution_count": null,
      "outputs": []
    },
    {
      "cell_type": "markdown",
      "source": [
        "Ques29)  Write a code to combine two dictionaries into one and print the result?"
      ],
      "metadata": {
        "id": "3KM2Ixq4unsS"
      }
    },
    {
      "cell_type": "code",
      "source": [
        "dict1 = {'name':'Eshika Singh','age':20}\n",
        "dict2 = {'city':'Lucknow'}\n",
        "dict1.update(dict2)\n",
        "print(dict1)"
      ],
      "metadata": {
        "id": "TlBZSNxsurfq"
      },
      "execution_count": null,
      "outputs": []
    },
    {
      "cell_type": "markdown",
      "source": [
        "Ques30) Write a code to convert a list of strings into a set?"
      ],
      "metadata": {
        "id": "uQimu8KmvXud"
      }
    },
    {
      "cell_type": "code",
      "source": [
        "my_list = [\"apple\", \"banana\", \"cherry\", \"apple\", \"date\"]\n",
        "my_set = set(my_list)\n",
        "print(my_set)"
      ],
      "metadata": {
        "id": "TfWtoyuwveAS"
      },
      "execution_count": null,
      "outputs": []
    }
  ]
}