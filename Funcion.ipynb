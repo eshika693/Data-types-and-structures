{
  "nbformat": 4,
  "nbformat_minor": 0,
  "metadata": {
    "colab": {
      "provenance": []
    },
    "kernelspec": {
      "name": "python3",
      "display_name": "Python 3"
    },
    "language_info": {
      "name": "python"
    }
  },
  "cells": [
    {
      "cell_type": "markdown",
      "source": [
        "Ques1) What is the difference between a function and a method in Python?"
      ],
      "metadata": {
        "id": "bF70xrW6iAyo"
      }
    },
    {
      "cell_type": "markdown",
      "source": [
        "- In Python, the difference between a function and a method primarily comes down to their association with objects:\n",
        "\n",
        "  Function\n",
        "  \n",
        "  A function is a standalone block of reusable code that performs a specific task.\n",
        "\n",
        "  1) It is defined using the def keyword.\n",
        "\n",
        "  2) It can be called independently and is not tied to any object.\n",
        "\n",
        "  Example:\n",
        "\n",
        "\n",
        "def greet(name):\n",
        "\n",
        "    return f\"Hello, {name}!\"\n",
        "\n",
        "print(greet(\"Alice\"))  # Output: Hello, Alice!\n",
        "\n",
        "\n",
        "Method\n",
        "\n",
        " 1) A method is a function that belongs to an object (usually an instance of a class).\n",
        "\n",
        "  2) It is defined inside a class and operates on that class's instance (or class itself, in the case of class methods).\n",
        "\n",
        "3) The first parameter of an instance method is usually self, which refers to the instance of the class.\n",
        "\n",
        "Example:\n",
        "class Person:\n",
        "    def __init__(self, name):\n",
        "        self.name = name\n",
        "\n",
        "    def greet(self):\n",
        "        return f\"Hello, {self.name}!\"\n",
        "\n",
        "  p = Person(\"Alice\")\n",
        "\n",
        "  print(p.greet())  # Output: Hello, Alice!"
      ],
      "metadata": {
        "id": "tbmxMQ8jiQwO"
      }
    },
    {
      "cell_type": "markdown",
      "source": [
        "Ques2) Explain the concept of function arguments and parameters in Python?"
      ],
      "metadata": {
        "id": "rfDUShBTmOku"
      }
    },
    {
      "cell_type": "markdown",
      "source": [
        "- Function Arguments vs. Parameters in Python\n",
        "\n",
        "  The terms arguments and parameters are often used interchangeably, but they have distinct meanings in Python.\n",
        "\n",
        "  1. Parameters\n",
        "  \n",
        "  Definition: Parameters are variables listed in a function’s definition.\n",
        "\n",
        "  They act as placeholders for values that the function will receive when it is called.\n",
        "\n",
        "  Example:\n",
        "\n",
        "  def greet(name):  # 'name' is a parameter\n",
        "\n",
        "    return f\"Hello, {name}!\"\n",
        "\n",
        "  2. Arguments\n",
        "  \n",
        "  Definition: Arguments are the actual values passed to a function when calling it.\n",
        "\n",
        "  They replace the parameters in the function definition.\n",
        "\n",
        "  Example:\n",
        "\n",
        "  print(greet(\"Alice\"))  # \"Alice\" is an argument\n"
      ],
      "metadata": {
        "id": "2kLiCZdmm0Xs"
      }
    },
    {
      "cell_type": "markdown",
      "source": [
        "Ques3) What are the different ways to define and call a function in Python?"
      ],
      "metadata": {
        "id": "pgFqIrO9nOHB"
      }
    },
    {
      "cell_type": "markdown",
      "source": [
        "Different Ways to Define and Call a Function in Python\n",
        "\n",
        "  1. Standard Function Definition and Call\n",
        "  Functions are defined using the def keyword.\n",
        "\n",
        "  They are called by using their name followed by parentheses ().\n",
        "  \n",
        "  Example:\n",
        "  def greet(name):\n",
        "\n",
        "    return f\"Hello, {name}!\"\n",
        "\n",
        "  print(greet(\"Alice\"))  # Calling the function\n",
        "\n",
        "  2. Function with Default Parameters\n",
        "  \n",
        "  Default values are assigned to parameters if no argument is passed.\n",
        "\n",
        "  Example:\n",
        "\n",
        "  def greet(name=\"Guest\"):\n",
        "    return f\"Hello, {name}!\"\n",
        "\n",
        "  print(greet())          # Uses default value\n",
        "  print(greet(\"Bob\"))     # Overrides default value\n",
        "\n",
        "  3. Function with Keyword Arguments\n",
        "\n",
        "  Arguments are passed using parameter names.\n",
        "\n",
        "  Order of arguments does not matter.\n",
        "\n",
        "  Example:\n",
        "\n",
        "  def introduce(name, age):\n",
        "\n",
        "    return f\"My name is {name} and I am {age} years old.\"\n",
        "\n",
        "  print(introduce(age=25, name=\"Bob\"))\n",
        "\n",
        "  4. Function with *args (Arbitrary Positional Arguments)\n",
        "\n",
        "  Allows passing multiple positional arguments as a tuple.\n",
        "\n",
        "  Example:\n",
        "\n",
        "  def sum_all(*numbers):\n",
        "\n",
        "    return sum(numbers)\n",
        "\n",
        "  print(sum_all(1, 2, 3, 4, 5))  \n",
        "\n",
        "  5. Function with **kwargs (Arbitrary Keyword Arguments)\n",
        "  \n",
        "  Accepts multiple keyword arguments as a dictionary.\n",
        "\n",
        "  Example:\n",
        "\n",
        "  def display_info(**info):\n",
        "\n",
        "    for key, value in info.items():\n",
        "\n",
        "        print(f\"{key}: {value}\")\n",
        "\n",
        "  display_info(name=\"Alice\", age=30, city=\"New York\")\n",
        "\n",
        "  6. Lambda Function (Anonymous Function)\n",
        "\n",
        "  A one-line function using lambda.\n",
        "\n",
        "  Example:\n",
        "\n",
        "  square = lambda x: x ** 2\n",
        "\n",
        "  print(square(5))\n",
        "\n",
        "  8. Function Returning Another Function\n",
        "\n",
        "  A function can return another function.\n",
        "\n",
        "  Example:\n",
        "\n",
        "  def multiply_by(n):\n",
        "\n",
        "    def multiplier(x):\n",
        "\n",
        "        return x * n\n",
        "\n",
        "    return multiplier\n",
        "\n",
        "  times_three = multiply_by(3)\n",
        "\n",
        "print(times_three(10))  # 10 * 3\n",
        "\n",
        "  9. Function as an Argument to Another Function\n",
        "\n",
        "  Functions can be passed as arguments.\n",
        "\n",
        "  Example:\n",
        "\n",
        "  def apply_function(func, value):\n",
        "\n",
        "    return func(value)\n",
        "\n",
        "  double = lambda x: x * 2\n",
        "\n",
        "print(apply_function(double, 5))\n",
        "\n",
        "  10. Recursive Function\n",
        "  \n",
        "  A function calling itself.\n",
        "\n",
        "  Example:\n",
        "\n",
        "  def factorial(n):\n",
        "\n",
        "    if n == 0:\n",
        "\n",
        "        return 1\n",
        "\n",
        "    return n * factorial(n - 1)\n",
        "\n",
        "print(factorial(5))\n",
        "\n",
        "\n",
        "\n",
        "\n",
        "\n",
        "\n",
        "\n"
      ],
      "metadata": {
        "id": "eIp7uHOdnp1n"
      }
    },
    {
      "cell_type": "markdown",
      "source": [
        "Ques4)  What is the purpose of the `return` statement in a Python function?"
      ],
      "metadata": {
        "id": "-8XrdfKVqGXU"
      }
    },
    {
      "cell_type": "markdown",
      "source": [
        "- Purpose of the return Statement in Python Functions\n",
        "  \n",
        "  The return statement is used in a Python function to send back a value to the caller and terminate the function execution.\n",
        "\n",
        "1. Returning a Single Value\n",
        "\n",
        "  return allows a function to produce a result that can be used elsewhere.\n",
        "\n",
        "  Example:\n",
        "\n",
        "  def square(num):\n",
        "\n",
        "    return num ** 2\n",
        "\n",
        "  result = square(4)\n",
        "\n",
        "  print(result)  # Output: 16\n",
        "\n",
        "2. Returning Multiple Values\n",
        "  \n",
        "  Python allows returning multiple values as a tuple.\n",
        "\n",
        "  Example:\n",
        "\n",
        "  def get_coordinates():\n",
        "\n",
        "    return 10, 20  # Returns a tuple\n",
        "\n",
        "x, y = get_coordinates()\n",
        "\n",
        "print(x, y)  # Output: 10 20\n",
        "\n",
        "3. Returning Early (Exiting a Function)\n",
        "\n",
        "  A return statement immediately exits a function, skipping any code after it.\n",
        "\n",
        "  Example:\n",
        "\n",
        "def check_number(n):\n",
        "\n",
        "    if n % 2 == 0:\n",
        "\n",
        "        return \"Even\"\n",
        "\n",
        "    return \"Odd\"  # This runs only if the first return is skipped\n",
        "\n",
        "print(check_number(5))  # Output: Odd\n",
        "\n",
        "4. Returning None (Default Behavior)\n",
        "\n",
        "  If a function does not have a return statement, it returns None by default.\n",
        "\n",
        "  Example:\n",
        "\n",
        "  def greet(name):\n",
        "\n",
        "    print(f\"Hello, {name}!\")\n",
        "\n",
        "result = greet(\"Alice\")\n",
        "\n",
        "print(result)  # Output: None\n"
      ],
      "metadata": {
        "id": "UHLM8bW_qPZ3"
      }
    },
    {
      "cell_type": "markdown",
      "source": [
        "Ques5) What are iterators in Python and how do they differ from iterables?"
      ],
      "metadata": {
        "id": "N3f1ud_erTQM"
      }
    },
    {
      "cell_type": "markdown",
      "source": [
        "Iterators: is an object representing stream of data that returns the data one by one.\n",
        "\n",
        "Iterables: is any python object or sequential string or data structure that is capable of returning its member one at a time, permitting it to be iterated over in a for loop."
      ],
      "metadata": {
        "id": "4W2RogyiravD"
      }
    },
    {
      "cell_type": "markdown",
      "source": [
        "Ques6)Explain the concept of generators in Python and how they are defined?"
      ],
      "metadata": {
        "id": "F7a8Ni2PsteN"
      }
    },
    {
      "cell_type": "markdown",
      "source": [
        "- A generator is a special type of iterator in Python that yields values one at a time, instead of returning all values at once. This makes generators memory-efficient and useful for handling large datasets or infinite sequences.\n",
        "\n",
        " Generators are defined using a function with the yield keyword instead of return.\n",
        "\n",
        " def count_up_to(n):\n",
        "\n",
        "    count = 1\n",
        "\n",
        "    while count <= n:\n",
        "\n",
        "        yield count  # Pauses function and returns a value\n",
        "\n",
        "        count += 1\n",
        "\n",
        "gen = count_up_to(5)  # Creating a generator object\n",
        "\n",
        "print(next(gen))  # Output: 1\n",
        "\n",
        "print(next(gen))  # Output: 2\n",
        "\n",
        "\n"
      ],
      "metadata": {
        "id": "siVfOwR4syug"
      }
    },
    {
      "cell_type": "markdown",
      "source": [
        "Ques7) What are the advantages of using generators over regular functions?"
      ],
      "metadata": {
        "id": "8AVMysu3t2Rh"
      }
    },
    {
      "cell_type": "markdown",
      "source": [
        "Generators offer several advantages over regular functions, particularly in terms of memory efficiency, performance, and code simplicity. Unlike regular functions that return all values at once, generators produce values on demand using the yield keyword, which significantly reduces memory consumption. This makes them ideal for handling large datasets and infinite sequences where storing all results in memory would be impractical. Additionally, generators enable faster execution since they return values immediately instead of waiting for the entire computation to complete. They also improve code readability and maintainability, eliminating the need for manually managing iterators and state variables."
      ],
      "metadata": {
        "id": "x7fzCxVvvGgn"
      }
    },
    {
      "cell_type": "markdown",
      "source": [
        "Ques8)What is a lambda function in Python and when is it typically used?"
      ],
      "metadata": {
        "id": "5EmaxfNDvHqg"
      }
    },
    {
      "cell_type": "markdown",
      "source": [
        "A lambda function in Python is a small, anonymous function defined using the lambda keyword. Unlike regular functions created with def, a lambda function can have only one expression and returns its result automatically. The basic syntax is lambda arguments: expression. Lambda functions are typically used for short, simple operations where defining a full function using def would be unnecessary. They are commonly used in functional programming with functions like map(), filter(), and sorted() to define quick, inline operations. For example, sorted(lst, key=lambda x: x[1]) sorts a list based on the second element of each tuple. Lambda functions improve code conciseness but should be used sparingly, as complex expressions can reduce readability. They are best suited for short-lived, one-time-use functions, such as when passing a function as an argument in higher-order functions or when defining simple mathematical computations inline."
      ],
      "metadata": {
        "id": "TYYatKAgvLpE"
      }
    },
    {
      "cell_type": "markdown",
      "source": [
        "Ques9) Explain the purpose and usage of the `map()` function in Python?"
      ],
      "metadata": {
        "id": "l057bzhnvXUW"
      }
    },
    {
      "cell_type": "markdown",
      "source": [
        "The map() function in Python is used to apply a given function to each item in an iterable (such as a list or tuple) and return a new iterator with the transformed values. Its syntax is map(function, iterable), where the function is applied to each element of the iterable. The result is a map object, which can be converted into a list or another collection if needed. map() is particularly useful for performing operations on large datasets efficiently, as it eliminates the need for explicit loops. For example, map(lambda x: x**2, [1, 2, 3, 4]) returns [1, 4, 9, 16] by squaring each number in the list. It is commonly used in functional programming to transform data concisely while improving readability and performance. However, in modern Python, list comprehensions are often preferred for better readability unless working with large datasets where map() offers memory efficiency by processing items lazily."
      ],
      "metadata": {
        "id": "F5jIjaOivdlr"
      }
    },
    {
      "cell_type": "markdown",
      "source": [
        "Ques10) What is the difference between `map()`, `reduce()`, and `filter()` functions in Python?"
      ],
      "metadata": {
        "id": "KY0xEcuovk1w"
      }
    },
    {
      "cell_type": "markdown",
      "source": [
        "The map(), reduce(), and filter() functions in Python are built-in higher-order functions used for processing iterables efficiently. map() applies a given function to each element of an iterable and returns a new iterable with the transformed values. For example, map(lambda x: x * 2, [1, 2, 3]) returns [2, 4, 6]. filter(), on the other hand, is used for filtering elements based on a condition, returning only the elements that satisfy the given function. For example, filter(lambda x: x % 2 == 0, [1, 2, 3, 4]) returns [2, 4], keeping only even numbers. reduce(), from the functools module, applies a function cumulatively to reduce an iterable to a single value. For example, reduce(lambda x, y: x * y, [1, 2, 3, 4]) returns 24 by multiplying all numbers together. While map() and filter() return iterables, reduce() returns a single computed result. map() is best for transformations, filter() for selection, and reduce() for cumulative computations, making them powerful tools in functional programming. However, list comprehensions and generator expressions are often preferred over map() and filter() for better readability in Python."
      ],
      "metadata": {
        "id": "qwtJ-cmCvqtE"
      }
    },
    {
      "cell_type": "markdown",
      "source": [
        "### Practical Questions"
      ],
      "metadata": {
        "id": "SW5XHsSevxv4"
      }
    },
    {
      "cell_type": "markdown",
      "source": [
        "Ques1)  Write a Python function that takes a list of numbers as input and returns the sum of all even numbers in\n",
        "the list?"
      ],
      "metadata": {
        "id": "cTTDBod_ypbf"
      }
    },
    {
      "cell_type": "code",
      "source": [
        "def sum_even(l):\n",
        "    return sum(i for i in l if isinstance(i, (int, float)) and i % 2 == 0)\n",
        "\n",
        "l = [1, 2, 3, 4, 5, 6, 7, 8, 9, 10]\n",
        "print(sum_even(l))  # Output: 30 (2 + 4 + 6 + 8 + 10)"
      ],
      "metadata": {
        "id": "BpgqS5nKzoBt"
      },
      "execution_count": null,
      "outputs": []
    },
    {
      "cell_type": "markdown",
      "source": [
        "Ques2)  Create a Python function that accepts a string and returns the reverse of that string?"
      ],
      "metadata": {
        "id": "wSL9SQ6p39y4"
      }
    },
    {
      "cell_type": "code",
      "source": [
        "def reverse_string(s):\n",
        "  return s[::-1]\n",
        "\n",
        "print(reverse_string(\"Eshika\"))"
      ],
      "metadata": {
        "id": "BOwfILTU4CoW"
      },
      "execution_count": null,
      "outputs": []
    },
    {
      "cell_type": "markdown",
      "source": [
        "Ques3)  Implement a Python function that takes a list of integers and returns a new list containing the squares of\n",
        "each number?"
      ],
      "metadata": {
        "id": "rY2UsJet5rvp"
      }
    },
    {
      "cell_type": "code",
      "source": [
        "l = [1,2,3,4,5,6,7,8,9]\n",
        "square = list(map(lambda x: x ** 2,l))"
      ],
      "metadata": {
        "id": "p2MVSBl75v5D"
      },
      "execution_count": null,
      "outputs": []
    },
    {
      "cell_type": "markdown",
      "source": [
        "Ques4) Write a Python function that checks if a given number is prime or not from 1 to 200?"
      ],
      "metadata": {
        "id": "HDSpBzrd6giW"
      }
    },
    {
      "cell_type": "code",
      "source": [
        "def is_prime(n):\n",
        "    if n < 2:  # Prime numbers start from 2\n",
        "        return False\n",
        "    for i in range(2, int(n ** 0.5) + 1):  # Check divisibility up to √n\n",
        "        if n % i == 0:\n",
        "            return False\n",
        "    return True\n",
        "\n",
        "prime_numbers = [n for n in range(1, 201) if is_prime(n)]\n",
        "print(prime_numbers)"
      ],
      "metadata": {
        "id": "HOmSbqsW6lgl"
      },
      "execution_count": null,
      "outputs": []
    },
    {
      "cell_type": "markdown",
      "source": [
        "Ques5) Create an iterator class in Python that generates the Fibonacci sequence up to a specified number of\n",
        "terms?"
      ],
      "metadata": {
        "id": "hv46dazS7ejE"
      }
    },
    {
      "cell_type": "code",
      "source": [
        "fib = lambda n : n if n<=1 else fib(n-1) + fib(n-2)\n",
        "\n",
        "[fib(i) for i in range(10)]"
      ],
      "metadata": {
        "id": "j85oMSmn7j4S"
      },
      "execution_count": null,
      "outputs": []
    },
    {
      "cell_type": "markdown",
      "source": [
        "Ques6) Write a generator function in Python that yields the powers of 2 up to a given exponent?"
      ],
      "metadata": {
        "id": "bqBGo7yS8U-7"
      }
    },
    {
      "cell_type": "code",
      "source": [
        "def powers_of_2(max_exponent):\n",
        "    for exp in range(max_exponent + 1):\n",
        "        yield 2 ** exp\n",
        "\n",
        "\n",
        "gen = powers_of_2(5)\n",
        "print(list(gen))"
      ],
      "metadata": {
        "id": "VrvJKz7U8Yum"
      },
      "execution_count": null,
      "outputs": []
    },
    {
      "cell_type": "markdown",
      "source": [
        "Ques7) Implement a generator function that reads a file line by line and yields each line as a string?"
      ],
      "metadata": {
        "id": "M8eedjoM80Rx"
      }
    },
    {
      "cell_type": "code",
      "source": [
        "def read_file_line_by_line(file_path):\n",
        "    with open(file_path, 'r', encoding='utf-8') as file:\n",
        "        for line in file:\n",
        "            yield line.strip()\n",
        "\n",
        "file_path = \"example.txt\"\n",
        "for line in read_file_line_by_line(file_path):\n",
        "    print(line)"
      ],
      "metadata": {
        "id": "c6uE34eP85Cl"
      },
      "execution_count": null,
      "outputs": []
    },
    {
      "cell_type": "markdown",
      "source": [
        "Ques8)  Use a lambda function in Python to sort a list of tuples based on the second element of each tuple?"
      ],
      "metadata": {
        "id": "QizdLJsL9MJH"
      }
    },
    {
      "cell_type": "code",
      "source": [
        "\n",
        "data = [(1, 5), (3, 2), (4, 8), (2, 1)]\n",
        "\n",
        "\n",
        "sorted_data = sorted(data, key=lambda x: x[1])\n",
        "\n",
        "print(sorted_data)"
      ],
      "metadata": {
        "id": "YoQdeQk-9RPg"
      },
      "execution_count": null,
      "outputs": []
    },
    {
      "cell_type": "markdown",
      "source": [
        "Ques9) Write a Python program that uses `map()` to convert a list of temperatures from Celsius to Fahrenheit?"
      ],
      "metadata": {
        "id": "nMP3OSMN9gPJ"
      }
    },
    {
      "cell_type": "code",
      "source": [
        "l = [11,23,25,33]\n",
        "\n",
        "fahr = list(map(lambda x: (x * 9/5) + 32,l))\n",
        "\n",
        "print(fahr)"
      ],
      "metadata": {
        "id": "kiSJQRew9lHQ"
      },
      "execution_count": null,
      "outputs": []
    },
    {
      "cell_type": "markdown",
      "source": [
        "Ques10) Create a Python program that uses `filter()` to remove all the vowels from a given string?"
      ],
      "metadata": {
        "id": "5femxWK9-B6Q"
      }
    },
    {
      "cell_type": "code",
      "source": [
        "vowels = ['a','e','i','o','u']\n",
        "string = \"Eshika\"\n",
        "\n",
        "remove_vowels = list(filter(lambda x: x not in vowels,string))\n",
        "\n",
        "print(remove_vowels)"
      ],
      "metadata": {
        "id": "64W0LwJ0-F09"
      },
      "execution_count": null,
      "outputs": []
    },
    {
      "cell_type": "markdown",
      "source": [
        "Ques11)  Imagine an accounting routine used in a book shop. It works on a list with sublists, which look like this:"
      ],
      "metadata": {
        "id": "RMoFrs8Y-lmQ"
      }
    },
    {
      "cell_type": "code",
      "source": [
        "orders = [\n",
        "    [34587, 40.95, 4],\n",
        "    [98762, 56.80, 5],\n",
        "    [77226, 32.95, 3],\n",
        "    [88112, 24.99, 3]\n",
        "]\n",
        "\n",
        "processed_orders = list(map(lambda x: (x[0], x[1] * x[2] + (10 if x[1] * x[2] < 100 else 0)), orders))\n",
        "\n",
        "print(processed_orders)"
      ],
      "metadata": {
        "id": "oPZdyGp3-zUr"
      },
      "execution_count": null,
      "outputs": []
    }
  ]
}